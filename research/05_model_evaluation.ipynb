{
 "cells": [
  {
   "cell_type": "code",
   "execution_count": 1,
   "metadata": {},
   "outputs": [],
   "source": [
    "import os"
   ]
  },
  {
   "cell_type": "code",
   "execution_count": 2,
   "metadata": {},
   "outputs": [],
   "source": [
    "os.chdir(\"../\")"
   ]
  },
  {
   "cell_type": "code",
   "execution_count": 5,
   "metadata": {},
   "outputs": [],
   "source": [
    "from dataclasses import dataclass\n",
    "from pathlib import Path\n",
    "\n",
    "\n",
    "@dataclass(frozen=True)\n",
    "class ModelEvaluationConfig:\n",
    "    root_dir: Path\n",
    "    X_test_data_path: Path\n",
    "    y_test_data_path: Path\n",
    "    model_path:Path\n",
    "    scaler_file_path:Path\n",
    "    metric_file_name: Path\n"
   ]
  },
  {
   "cell_type": "code",
   "execution_count": 6,
   "metadata": {},
   "outputs": [],
   "source": [
    "from src.StockSeer.constants import *\n",
    "from src.StockSeer.utils.common import read_yaml, create_directories\n",
    "\n",
    "\n",
    "class ConfigurationManager:\n",
    "    def __init__(\n",
    "        self,\n",
    "        config_filepath = CONFIG_FILE_PATH,\n",
    "        params_filepath = PARAMS_FILE_PATH,\n",
    "        schema_filepath = SCHEMA_FILE_PATH):\n",
    "\n",
    "        self.config = read_yaml(config_filepath)\n",
    "        self.params = read_yaml(params_filepath)\n",
    "        self.schema = read_yaml(schema_filepath)\n",
    "\n",
    "        create_directories([self.config.artifacts_root])\n",
    "\n",
    "    def get_model_evaluation_config(self) -> ModelEvaluationConfig:\n",
    "        config = self.config.model_evaluation\n",
    "\n",
    "        create_directories([config.root_dir])\n",
    "\n",
    "        model_evaluation_config = ModelEvaluationConfig(\n",
    "            root_dir = config.root_dir,\n",
    "            X_test_data_path = config.X_test_data_path,\n",
    "            y_test_data_path = config.y_test_data_path,\n",
    "            model_path =config.model_path,\n",
    "            scaler_file_path=config.scaler_file_path,\n",
    "            metric_file_name=config.metric_file_name\n",
    "        )\n",
    "\n",
    "        return model_evaluation_config"
   ]
  },
  {
   "cell_type": "code",
   "execution_count": 13,
   "metadata": {},
   "outputs": [],
   "source": [
    "from tensorflow.keras.models import load_model\n",
    "from joblib import load\n",
    "from sklearn.metrics import mean_absolute_error, mean_absolute_percentage_error, mean_squared_error\n",
    "import numpy as np\n",
    "from src.StockSeer.utils.common import save_json\n",
    "from src.StockSeer.logging import logger\n",
    "\n",
    "class ModelEvaluation:\n",
    "    def __init__(self, config: ModelEvaluationConfig):\n",
    "        self.config = config\n",
    "\n",
    "    def eval_metrics(self,actual, pred):\n",
    "\n",
    "        mape = mean_absolute_percentage_error(actual, pred) * 100\n",
    "        rmse = np.sqrt(mean_squared_error(actual, pred))\n",
    "        mae = mean_absolute_error(actual, pred)\n",
    "\n",
    "        return mape, rmse, mae\n",
    "    \n",
    "    def save_results(self):\n",
    "        X_test = np.load(self.config.X_test_data_path)\n",
    "        y_test = np.load(self.config.y_test_data_path)\n",
    "        model = load_model(self.config.model_path)\n",
    "        scaler = load(self.config.scaler_file_path)\n",
    "        \n",
    "        predictions = model.predict(X_test)\n",
    "        predictions = scaler.inverse_transform(predictions)\n",
    "        print(predictions.shape)\n",
    "        (mape, rmse, mae) = self.eval_metrics(y_test,predictions)\n",
    "\n",
    "        # Saving metrics as local\n",
    "        scores = {\"mape(%)\": mape, \"rmse\": rmse, \"mae\": mae}\n",
    "        save_json(path=Path(self.config.metric_file_name), data=scores)\n"
   ]
  },
  {
   "cell_type": "code",
   "execution_count": 14,
   "metadata": {},
   "outputs": [
    {
     "name": "stdout",
     "output_type": "stream",
     "text": [
      "[2024-03-05 15:13:28,442: INFO: common: yaml file: config\\config.yaml loaded successfully]\n",
      "[2024-03-05 15:13:28,442: INFO: common: yaml file: params.yaml loaded successfully]\n",
      "[2024-03-05 15:13:28,442: INFO: common: yaml file: schema.yaml loaded successfully]\n",
      "[2024-03-05 15:13:28,450: INFO: common: created directory at: artifacts]\n",
      "[2024-03-05 15:13:28,451: INFO: common: created directory at: artifacts/model_evaluation]\n",
      "7/7 [==============================] - 2s 29ms/step\n",
      "(200, 1)\n",
      "[2024-03-05 15:13:31,039: INFO: common: json file saved at: artifacts\\model_evaluation\\metrics.json]\n",
      "[2024-03-05 15:13:31,039: INFO: 2481893614: model evalution metric stored at artifacts/model_evaluation/metrics.json]\n"
     ]
    }
   ],
   "source": [
    "try:\n",
    "    config = ConfigurationManager()\n",
    "    model_evaluation_config = config.get_model_evaluation_config()\n",
    "    model_evaluation_config = ModelEvaluation(config=model_evaluation_config)\n",
    "    model_evaluation_config.save_results()\n",
    "except Exception as e:\n",
    "    raise e"
   ]
  },
  {
   "cell_type": "code",
   "execution_count": null,
   "metadata": {},
   "outputs": [],
   "source": []
  }
 ],
 "metadata": {
  "kernelspec": {
   "display_name": "env",
   "language": "python",
   "name": "python3"
  },
  "language_info": {
   "codemirror_mode": {
    "name": "ipython",
    "version": 3
   },
   "file_extension": ".py",
   "mimetype": "text/x-python",
   "name": "python",
   "nbconvert_exporter": "python",
   "pygments_lexer": "ipython3",
   "version": "3.11.1"
  }
 },
 "nbformat": 4,
 "nbformat_minor": 2
}
