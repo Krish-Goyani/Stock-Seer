{
 "cells": [
  {
   "cell_type": "code",
   "execution_count": 1,
   "metadata": {},
   "outputs": [],
   "source": [
    "import os"
   ]
  },
  {
   "cell_type": "code",
   "execution_count": 2,
   "metadata": {},
   "outputs": [],
   "source": [
    "os.chdir(\"../\")"
   ]
  },
  {
   "cell_type": "code",
   "execution_count": 8,
   "metadata": {},
   "outputs": [],
   "source": [
    "from dataclasses import dataclass\n",
    "from pathlib import Path\n",
    "\n",
    "\n",
    "@dataclass(frozen=True)\n",
    "class FullModelTrainerConfig:\n",
    "    root_dir: Path\n",
    "    X_stacked_data_path: Path\n",
    "    y_stacked_data_path: Path\n",
    "    partial_model_name: str\n",
    "    final_model_name: str"
   ]
  },
  {
   "cell_type": "code",
   "execution_count": 9,
   "metadata": {},
   "outputs": [],
   "source": [
    "from src.StockSeer.constants import *\n",
    "from src.StockSeer.utils.common import read_yaml, create_directories\n",
    "\n",
    "class ConfigurationManager:\n",
    "    def __init__(\n",
    "        self,\n",
    "        config_filepath = CONFIG_FILE_PATH,\n",
    "        params_filepath = PARAMS_FILE_PATH,\n",
    "        schema_filepath = SCHEMA_FILE_PATH):\n",
    "\n",
    "        self.config = read_yaml(config_filepath)\n",
    "        self.params = read_yaml(params_filepath)\n",
    "        self.schema = read_yaml(schema_filepath)\n",
    "\n",
    "        create_directories([self.config.artifacts_root])\n",
    "\n",
    "\n",
    "    def get_full_model_trainer_config(self) -> FullModelTrainerConfig:\n",
    "        config = self.config.full_model_trainer\n",
    "\n",
    "        create_directories([config.root_dir])\n",
    "\n",
    "        full_model_trainer_config = FullModelTrainerConfig(\n",
    "            root_dir=config.root_dir,\n",
    "            X_stacked_data_path = config.X_stacked_data_path,\n",
    "            y_stacked_data_path = config.y_stacked_data_path,\n",
    "            partial_model_name = config.partial_model_name,\n",
    "            final_model_name=config.final_model_name\n",
    "        )\n",
    "\n",
    "        return full_model_trainer_config"
   ]
  },
  {
   "cell_type": "code",
   "execution_count": 10,
   "metadata": {},
   "outputs": [],
   "source": [
    "from tensorflow.keras.models import load_model\n",
    "from tensorflow.keras.callbacks import ReduceLROnPlateau\n",
    "\n",
    "import tensorflow as tf\n",
    "from src.StockSeer.logging import logger\n",
    "import numpy as np\n",
    "\n",
    "class FullModelTrainer:\n",
    "    def __init__(self, config: FullModelTrainerConfig):\n",
    "        self.config = config\n",
    "\n",
    "    def train(self):\n",
    "        np.random.seed(42)\n",
    "        tf.random.set_seed(42)\n",
    "\n",
    "        X = np.load(self.config.X_stacked_data_path)\n",
    "        y = np.load(self.config.y_stacked_data_path)\n",
    "        model = load_model(self.config.partial_model_name)\n",
    "\n",
    "        lr_callback = ReduceLROnPlateau(monitor='loss', factor=0.2, patience=2) \n",
    "        # Train the model\n",
    "        logger.info(\"full model training started\")\n",
    "        model.fit(X, y, epochs=1, batch_size=32, callbacks=[lr_callback])\n",
    "        model.save(self.config.final_model_name)\n",
    "        logger.info(f\"full model trainned and save at {self.config.final_model_name}\")\n",
    "    "
   ]
  },
  {
   "cell_type": "code",
   "execution_count": 11,
   "metadata": {},
   "outputs": [
    {
     "name": "stdout",
     "output_type": "stream",
     "text": [
      "[2024-03-05 16:41:57,944: INFO: common: yaml file: config\\config.yaml loaded successfully]\n",
      "[2024-03-05 16:41:57,947: INFO: common: yaml file: params.yaml loaded successfully]\n",
      "[2024-03-05 16:41:57,949: INFO: common: yaml file: schema.yaml loaded successfully]\n",
      "[2024-03-05 16:41:57,951: INFO: common: created directory at: artifacts]\n",
      "[2024-03-05 16:41:57,951: INFO: common: created directory at: artifacts/full_model_trainer]\n"
     ]
    },
    {
     "name": "stdout",
     "output_type": "stream",
     "text": [
      "[2024-03-05 16:41:58,934: INFO: 1105721778: full model training started]\n",
      "338/338 [==============================] - 30s 76ms/step - loss: 0.0017 - lr: 0.0010\n",
      "[2024-03-05 16:42:29,271: INFO: 1105721778: full model trainned and save at artifacts/full_model_trainer/model.h5]\n"
     ]
    },
    {
     "name": "stderr",
     "output_type": "stream",
     "text": [
      "c:\\Users\\Krish Goyani\\Desktop\\DS Projects\\Stock-Seer\\env\\Lib\\site-packages\\keras\\src\\engine\\training.py:3000: UserWarning: You are saving your model as an HDF5 file via `model.save()`. This file format is considered legacy. We recommend using instead the native Keras format, e.g. `model.save('my_model.keras')`.\n",
      "  saving_api.save_model(\n"
     ]
    }
   ],
   "source": [
    "try:\n",
    "    config = ConfigurationManager()\n",
    "    full_model_trainer_config = config.get_full_model_trainer_config()\n",
    "    full_model_trainer_config = FullModelTrainer(full_model_trainer_config)\n",
    "    full_model_trainer_config.train()\n",
    "except Exception as e:\n",
    "    raise e"
   ]
  },
  {
   "cell_type": "code",
   "execution_count": null,
   "metadata": {},
   "outputs": [],
   "source": []
  }
 ],
 "metadata": {
  "kernelspec": {
   "display_name": "env",
   "language": "python",
   "name": "python3"
  },
  "language_info": {
   "codemirror_mode": {
    "name": "ipython",
    "version": 3
   },
   "file_extension": ".py",
   "mimetype": "text/x-python",
   "name": "python",
   "nbconvert_exporter": "python",
   "pygments_lexer": "ipython3",
   "version": "3.11.1"
  }
 },
 "nbformat": 4,
 "nbformat_minor": 2
}
